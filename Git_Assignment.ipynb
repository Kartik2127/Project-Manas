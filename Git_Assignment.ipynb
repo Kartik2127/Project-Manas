{
 "cells": [
  {
   "cell_type": "code",
   "execution_count": 1,
   "id": "a9ddd8e6",
   "metadata": {},
   "outputs": [
    {
     "name": "stdout",
     "output_type": "stream",
     "text": [
      "Merge made by the 'ort' strategy.\n",
      " .DS_Store | Bin 6148 -> 0 bytes\n",
      " 1 file changed, 0 insertions(+), 0 deletions(-)\n",
      " delete mode 100644 .DS_Store\n"
     ]
    },
    {
     "name": "stderr",
     "output_type": "stream",
     "text": [
      "From https://github.com/Kartik2127/Project-Manas\n",
      "   2e56035..69fd71a  main       -> origin/main\n"
     ]
    }
   ],
   "source": [
    "!git pull"
   ]
  },
  {
   "cell_type": "markdown",
   "id": "184be6cf",
   "metadata": {},
   "source": [
    "### Step 1: Create `.gitignore`\n",
    "This file tells Git to ignore specific files and folders, such as our virtual environment, cache files, and Jupyter checkpoints. This keeps our repository clean."
   ]
  },
  {
   "cell_type": "code",
   "execution_count": 2,
   "id": "1cf685e6",
   "metadata": {},
   "outputs": [
    {
     "name": "stdout",
     "output_type": "stream",
     "text": [
      ".gitignore file created successfully.\n"
     ]
    }
   ],
   "source": [
    "gitignore_content = \"\"\"\n",
    "# Python virtual environment\n",
    "venv/\n",
    "/manas_env/\n",
    ".env\n",
    "\n",
    "# Python cache files\n",
    "__pycache__/\n",
    "*.pyc\n",
    "\n",
    "# IDE and editor folders\n",
    ".vscode/\n",
    ".idea/\n",
    "\n",
    "# Jupyter Notebook checkpoints\n",
    ".ipynb_checkpoints/\n",
    "\"\"\"\n",
    "\n",
    "with open('.gitignore', 'w') as f:\n",
    "    f.write(gitignore_content)\n",
    "\n",
    "print(\".gitignore file created successfully.\")"
   ]
  },
  {
   "cell_type": "code",
   "execution_count": 3,
   "id": "51bb753e",
   "metadata": {},
   "outputs": [
    {
     "name": "stdout",
     "output_type": "stream",
     "text": [
      "[main 3db8b8d] chore: Add .gitignore file\n",
      " 1 file changed, 16 insertions(+)\n",
      " create mode 100644 .gitignore\n"
     ]
    },
    {
     "name": "stderr",
     "output_type": "stream",
     "text": [
      "To https://github.com/Kartik2127/Project-Manas.git\n",
      "   69fd71a..3db8b8d  main -> main\n"
     ]
    }
   ],
   "source": [
    "!git add .gitignore\n",
    "!git commit -m \"chore: Add .gitignore file\"\n",
    "!git push"
   ]
  },
  {
   "cell_type": "markdown",
   "id": "ed3cdd31",
   "metadata": {},
   "source": [
    "### Step 2: Create `requirements.txt`\n",
    "First, we'll install the essential libraries for our backend (FastAPI) and for managing environment variables. Then, we'll \"freeze\" these installations into a `requirements.txt` file."
   ]
  },
  {
   "cell_type": "code",
   "execution_count": 4,
   "id": "9319b4d2",
   "metadata": {},
   "outputs": [
    {
     "name": "stdout",
     "output_type": "stream",
     "text": [
      "Requirement already satisfied: fastapi in e:\\project_manas\\manas_env\\lib\\site-packages (0.118.0)\n",
      "Requirement already satisfied: python-dotenv in e:\\project_manas\\manas_env\\lib\\site-packages (1.1.1)\n",
      "Requirement already satisfied: uvicorn[standard] in e:\\project_manas\\manas_env\\lib\\site-packages (0.37.0)\n",
      "Requirement already satisfied: starlette<0.49.0,>=0.40.0 in e:\\project_manas\\manas_env\\lib\\site-packages (from fastapi) (0.48.0)\n",
      "Requirement already satisfied: pydantic!=1.8,!=1.8.1,!=2.0.0,!=2.0.1,!=2.1.0,<3.0.0,>=1.7.4 in e:\\project_manas\\manas_env\\lib\\site-packages (from fastapi) (2.11.9)\n",
      "Requirement already satisfied: typing-extensions>=4.8.0 in e:\\project_manas\\manas_env\\lib\\site-packages (from fastapi) (4.15.0)\n",
      "Requirement already satisfied: annotated-types>=0.6.0 in e:\\project_manas\\manas_env\\lib\\site-packages (from pydantic!=1.8,!=1.8.1,!=2.0.0,!=2.0.1,!=2.1.0,<3.0.0,>=1.7.4->fastapi) (0.7.0)\n",
      "Requirement already satisfied: pydantic-core==2.33.2 in e:\\project_manas\\manas_env\\lib\\site-packages (from pydantic!=1.8,!=1.8.1,!=2.0.0,!=2.0.1,!=2.1.0,<3.0.0,>=1.7.4->fastapi) (2.33.2)\n",
      "Requirement already satisfied: typing-inspection>=0.4.0 in e:\\project_manas\\manas_env\\lib\\site-packages (from pydantic!=1.8,!=1.8.1,!=2.0.0,!=2.0.1,!=2.1.0,<3.0.0,>=1.7.4->fastapi) (0.4.1)\n",
      "Requirement already satisfied: anyio<5,>=3.6.2 in e:\\project_manas\\manas_env\\lib\\site-packages (from starlette<0.49.0,>=0.40.0->fastapi) (4.11.0)\n",
      "Requirement already satisfied: exceptiongroup>=1.0.2 in e:\\project_manas\\manas_env\\lib\\site-packages (from anyio<5,>=3.6.2->starlette<0.49.0,>=0.40.0->fastapi) (1.3.0)\n",
      "Requirement already satisfied: idna>=2.8 in e:\\project_manas\\manas_env\\lib\\site-packages (from anyio<5,>=3.6.2->starlette<0.49.0,>=0.40.0->fastapi) (3.10)\n",
      "Requirement already satisfied: sniffio>=1.1 in e:\\project_manas\\manas_env\\lib\\site-packages (from anyio<5,>=3.6.2->starlette<0.49.0,>=0.40.0->fastapi) (1.3.1)\n",
      "Requirement already satisfied: click>=7.0 in e:\\project_manas\\manas_env\\lib\\site-packages (from uvicorn[standard]) (8.3.0)\n",
      "Requirement already satisfied: h11>=0.8 in e:\\project_manas\\manas_env\\lib\\site-packages (from uvicorn[standard]) (0.16.0)\n",
      "Requirement already satisfied: colorama>=0.4 in e:\\project_manas\\manas_env\\lib\\site-packages (from uvicorn[standard]) (0.4.6)\n",
      "Requirement already satisfied: httptools>=0.6.3 in e:\\project_manas\\manas_env\\lib\\site-packages (from uvicorn[standard]) (0.6.4)\n",
      "Requirement already satisfied: pyyaml>=5.1 in e:\\project_manas\\manas_env\\lib\\site-packages (from uvicorn[standard]) (6.0.3)\n",
      "Requirement already satisfied: watchfiles>=0.13 in e:\\project_manas\\manas_env\\lib\\site-packages (from uvicorn[standard]) (1.1.0)\n",
      "Requirement already satisfied: websockets>=10.4 in e:\\project_manas\\manas_env\\lib\\site-packages (from uvicorn[standard]) (15.0.1)\n"
     ]
    }
   ],
   "source": [
    "!pip install fastapi \"uvicorn[standard]\" python-dotenv"
   ]
  },
  {
   "cell_type": "code",
   "execution_count": 5,
   "id": "1de7d3da",
   "metadata": {},
   "outputs": [],
   "source": [
    "!pip freeze > requirements.txt"
   ]
  },
  {
   "cell_type": "code",
   "execution_count": 6,
   "id": "eccc3714",
   "metadata": {},
   "outputs": [
    {
     "name": "stdout",
     "output_type": "stream",
     "text": [
      "[main aa92281] feat: Add initial project requirements\n",
      " 1 file changed, 74 insertions(+)\n",
      " create mode 100644 requirements.txt\n"
     ]
    },
    {
     "name": "stderr",
     "output_type": "stream",
     "text": [
      "To https://github.com/Kartik2127/Project-Manas.git\n",
      "   3db8b8d..aa92281  main -> main\n"
     ]
    }
   ],
   "source": [
    "!git add requirements.txt\n",
    "!git commit -m \"feat: Add initial project requirements\"\n",
    "!git push"
   ]
  },
  {
   "cell_type": "markdown",
   "id": "288fce17",
   "metadata": {},
   "source": [
    "### Step 3: Create `setup.py`\n",
    "This file contains metadata about our project, such as its name, version, and author. It helps in organizing the project as a Python package."
   ]
  },
  {
   "cell_type": "code",
   "execution_count": 7,
   "id": "b9769b30",
   "metadata": {},
   "outputs": [
    {
     "name": "stdout",
     "output_type": "stream",
     "text": [
      "setup.py file created successfully.\n"
     ]
    }
   ],
   "source": [
    "setup_content = \"\"\"\n",
    "from setuptools import find_packages, setup\n",
    "\n",
    "setup(\n",
    "    name='ProjectManas',\n",
    "    version='0.0.1',\n",
    "    author='Kartik, Tushar and Nikhil',\n",
    "    author_email='your_email@example.com',\n",
    "    packages=find_packages(),\n",
    "    install_requires=[],\n",
    ")\n",
    "\"\"\"\n",
    "with open('setup.py', 'w') as f:\n",
    "    f.write(setup_content)\n",
    "\n",
    "print(\"setup.py file created successfully.\")"
   ]
  },
  {
   "cell_type": "code",
   "execution_count": 8,
   "id": "2d4ce447",
   "metadata": {},
   "outputs": [
    {
     "name": "stdout",
     "output_type": "stream",
     "text": [
      "[main c5c17ba] build: Add basic setup.py file\n",
      " 1 file changed, 11 insertions(+)\n",
      " create mode 100644 setup.py\n"
     ]
    },
    {
     "name": "stderr",
     "output_type": "stream",
     "text": [
      "To https://github.com/Kartik2127/Project-Manas.git\n",
      "   aa92281..c5c17ba  main -> main\n"
     ]
    }
   ],
   "source": [
    "!git add setup.py\n",
    "!git commit -m \"build: Add basic setup.py file\"\n",
    "!git push"
   ]
  },
  {
   "cell_type": "markdown",
   "id": "8461d8cb",
   "metadata": {},
   "source": [
    "### Step 4: Initial Logging and Exception Handling\n",
    "We are creating a `src` directory to hold our main source code. Inside, we'll add modules for a custom logger and for handling custom exceptions. This is a best practice for building scalable applications."
   ]
  },
  {
   "cell_type": "code",
   "execution_count": 9,
   "id": "2583b330",
   "metadata": {},
   "outputs": [
    {
     "name": "stdout",
     "output_type": "stream",
     "text": [
      "src/logger.py and src/exception.py created successfully.\n"
     ]
    }
   ],
   "source": [
    "import os\n",
    "os.makedirs('src', exist_ok=True)\n",
    "\n",
    "logger_content = \"\"\"\n",
    "import logging\n",
    "import os\n",
    "from datetime import datetime\n",
    "\n",
    "LOG_FILE = f\"{datetime.now().strftime('%m_%d_%Y_%H_%M_%S')}.log\"\n",
    "logs_path = os.path.join(os.getcwd(), \"logs\", LOG_FILE)\n",
    "os.makedirs(logs_path, exist_ok=True)\n",
    "\n",
    "LOG_FILE_PATH = os.path.join(logs_path, LOG_FILE)\n",
    "\n",
    "logging.basicConfig(\n",
    "    filename=LOG_FILE_PATH,\n",
    "    format=\"[ %(asctime)s ] %(lineno)d %(name)s - %(levelname)s - %(message)s\",\n",
    "    level=logging.INFO,\n",
    ")\n",
    "\"\"\"\n",
    "\n",
    "exception_content = \"\"\"\n",
    "import sys\n",
    "from src.logger import logging\n",
    "\n",
    "def error_message_detail(error, error_detail:sys):\n",
    "    _,_,exc_tb = error_detail.exc_info()\n",
    "    file_name = exc_tb.tb_frame.f_code.co_filename\n",
    "    error_message = f\"Error occurred in python script name [{file_name}] line number [{exc_tb.tb_lineno}] error message [{str(error)}]\"\n",
    "    return error_message\n",
    "\n",
    "class CustomException(Exception):\n",
    "    def __init__(self, error_message, error_detail:sys):\n",
    "        super().__init__(error_message)\n",
    "        self.error_message = error_message_detail(error_message, error_detail=error_detail)\n",
    "\n",
    "    def __str__(self):\n",
    "        return self.error_message\n",
    "\"\"\"\n",
    "\n",
    "\n",
    "with open('src/logger.py', 'w') as f:\n",
    "    f.write(logger_content)\n",
    "with open('src/exception.py', 'w') as f:\n",
    "    f.write(exception_content)\n",
    "\n",
    "print(\"src/logger.py and src/exception.py created successfully.\")"
   ]
  },
  {
   "cell_type": "code",
   "execution_count": 10,
   "id": "077bea71",
   "metadata": {},
   "outputs": [
    {
     "name": "stdout",
     "output_type": "stream",
     "text": [
      "[main 7b091fb] feat: Add initial logging and exception setup\n",
      " 2 files changed, 33 insertions(+)\n",
      " create mode 100644 src/exception.py\n",
      " create mode 100644 src/logger.py\n"
     ]
    },
    {
     "name": "stderr",
     "output_type": "stream",
     "text": [
      "To https://github.com/Kartik2127/Project-Manas.git\n",
      "   c5c17ba..7b091fb  main -> main\n"
     ]
    }
   ],
   "source": [
    "!git add src/\n",
    "!git commit -m \"feat: Add initial logging and exception setup\"\n",
    "!git push"
   ]
  },
  {
   "cell_type": "code",
   "execution_count": null,
   "id": "dc63624a",
   "metadata": {},
   "outputs": [],
   "source": []
  }
 ],
 "metadata": {
  "kernelspec": {
   "display_name": "Python 3",
   "language": "python",
   "name": "python3"
  },
  "language_info": {
   "codemirror_mode": {
    "name": "ipython",
    "version": 3
   },
   "file_extension": ".py",
   "mimetype": "text/x-python",
   "name": "python",
   "nbconvert_exporter": "python",
   "pygments_lexer": "ipython3",
   "version": "3.10.18"
  }
 },
 "nbformat": 4,
 "nbformat_minor": 5
}
