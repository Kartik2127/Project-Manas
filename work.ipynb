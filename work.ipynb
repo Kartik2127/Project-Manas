{
 "cells": [
  {
   "cell_type": "code",
   "execution_count": 2,
   "id": "861d4503",
   "metadata": {},
   "outputs": [],
   "source": [
    "!git config --global user.name \"NikhilGour912\""
   ]
  },
  {
   "cell_type": "code",
   "execution_count": 3,
   "metadata": {},
   "outputs": [],
   "source": [
    "!git config --global user.email \"nikhilgour912@gmail.com\""
   ]
  },
  {
   "cell_type": "code",
   "execution_count": 4,
   "id": "0a0dc014",
   "metadata": {},
   "outputs": [
    {
     "name": "stderr",
     "output_type": "stream",
     "text": [
      "Cloning into 'Project-Manas'...\n"
     ]
    }
   ],
   "source": [
    "!git clone https://github.com/Kartik2127/Project-Manas.git"
   ]
  },
  {
   "cell_type": "code",
   "execution_count": 1,
   "id": "2399b749",
   "metadata": {},
   "outputs": [
    {
     "name": "stdout",
     "output_type": "stream",
     "text": [
      "Already up to date.\n"
     ]
    }
   ],
   "source": [
    "!git pull"
   ]
  },
  {
   "cell_type": "code",
   "execution_count": 2,
   "id": "9bcd6225",
   "metadata": {},
   "outputs": [
    {
     "name": "stdout",
     "output_type": "stream",
     "text": [
      "On branch main\n",
      "Your branch is up to date with 'origin/main'.\n",
      "\n",
      "Untracked files:\n",
      "  (use \"git add <file>...\" to include in what will be committed)\n",
      "\twork.ipynb\n",
      "\n",
      "nothing added to commit but untracked files present (use \"git add\" to track)\n"
     ]
    }
   ],
   "source": [
    "!git status"
   ]
  },
  {
   "cell_type": "code",
   "execution_count": 3,
   "id": "f849a1fa",
   "metadata": {},
   "outputs": [
    {
     "name": "stdout",
     "output_type": "stream",
     "text": [
      "\n",
      "# Python virtual environment\n",
      "venv/\n",
      "/manas_env/\n",
      ".env\n",
      "\n",
      "# Python cache files\n",
      "__pycache__/\n",
      "*.pyc\n",
      "\n",
      "# IDE and editor folders\n",
      ".vscode/\n",
      ".idea/\n",
      "\n",
      "# Jupyter Notebook checkpoints\n",
      ".ipynb_checkpoints/\n",
      "\n",
      "# Conda environment\n",
      "manas_env/\n",
      "\n",
      "# Ignore Jupyter Notebook\n",
      "Git_Assignment.ipynb\n",
      "\"work.ipynb\" \n"
     ]
    }
   ],
   "source": [
    "# Add work.ipynb to .gitignore\n",
    "!echo \"work.ipynb\" >> .gitignore\n",
    "\n",
    "# Show .gitignore content\n",
    "!type .gitignore\n"
   ]
  },
  {
   "cell_type": "code",
   "execution_count": null,
   "id": "4807ad5b",
   "metadata": {},
   "outputs": [],
   "source": [
    "git "
   ]
  }
 ],
 "metadata": {
  "kernelspec": {
   "display_name": "envi",
   "language": "python",
   "name": "python3"
  },
  "language_info": {
   "codemirror_mode": {
    "name": "ipython",
    "version": 3
   },
   "file_extension": ".py",
   "mimetype": "text/x-python",
   "name": "python",
   "nbconvert_exporter": "python",
   "pygments_lexer": "ipython3",
   "version": "3.13.5"
  }
 },
 "nbformat": 4,
 "nbformat_minor": 5
}
